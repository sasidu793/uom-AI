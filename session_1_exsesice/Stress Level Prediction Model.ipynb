{
 "cells": [
  {
   "cell_type": "markdown",
   "metadata": {},
   "source": [
    "# Stress Level Prediction Model V2\n",
    "\n",
    "This notebook demonstrates stress level prediction using multiple machine learning algorithms on sleep health and lifestyle data."
   ]
  },
  {
   "cell_type": "markdown",
   "metadata": {},
   "source": [
    "## 1. Import Libraries"
   ]
  },
  {
   "cell_type": "code",
   "execution_count": 1,
   "metadata": {},
   "outputs": [],
   "source": [
    "import pandas as pd\n",
    "import numpy as np\n",
    "import matplotlib.pyplot as plt\n",
    "import seaborn as sns\n",
    "from sklearn.model_selection import train_test_split, cross_val_score, GridSearchCV\n",
    "from sklearn.preprocessing import LabelEncoder, StandardScaler\n",
    "from sklearn.linear_model import LinearRegression, Ridge, Lasso\n",
    "from sklearn.ensemble import RandomForestRegressor, GradientBoostingRegressor\n",
    "from sklearn.svm import SVR\n",
    "from sklearn.neural_network import MLPRegressor\n",
    "from sklearn.metrics import mean_squared_error, mean_absolute_error, r2_score\n",
    "import warnings\n",
    "warnings.filterwarnings('ignore')"
   ]
  },
  {
   "cell_type": "markdown",
   "metadata": {},
   "source": [
    "## 2. Load Data"
   ]
  },
  {
   "cell_type": "code",
   "execution_count": 2,
   "metadata": {},
   "outputs": [
    {
     "data": {
      "text/html": [
       "<div>\n",
       "<style scoped>\n",
       "    .dataframe tbody tr th:only-of-type {\n",
       "        vertical-align: middle;\n",
       "    }\n",
       "\n",
       "    .dataframe tbody tr th {\n",
       "        vertical-align: top;\n",
       "    }\n",
       "\n",
       "    .dataframe thead th {\n",
       "        text-align: right;\n",
       "    }\n",
       "</style>\n",
       "<table border=\"1\" class=\"dataframe\">\n",
       "  <thead>\n",
       "    <tr style=\"text-align: right;\">\n",
       "      <th></th>\n",
       "      <th>Person ID</th>\n",
       "      <th>Gender</th>\n",
       "      <th>Age</th>\n",
       "      <th>Occupation</th>\n",
       "      <th>Sleep Duration</th>\n",
       "      <th>Quality of Sleep</th>\n",
       "      <th>Physical Activity Level</th>\n",
       "      <th>Stress Level</th>\n",
       "      <th>BMI Category</th>\n",
       "      <th>Blood Pressure</th>\n",
       "      <th>Heart Rate</th>\n",
       "      <th>Daily Steps</th>\n",
       "      <th>Sleep Disorder</th>\n",
       "    </tr>\n",
       "  </thead>\n",
       "  <tbody>\n",
       "    <tr>\n",
       "      <th>0</th>\n",
       "      <td>1</td>\n",
       "      <td>Male</td>\n",
       "      <td>27</td>\n",
       "      <td>Software Engineer</td>\n",
       "      <td>6.1</td>\n",
       "      <td>6</td>\n",
       "      <td>42</td>\n",
       "      <td>6</td>\n",
       "      <td>Overweight</td>\n",
       "      <td>126/83</td>\n",
       "      <td>77</td>\n",
       "      <td>4200</td>\n",
       "      <td>NaN</td>\n",
       "    </tr>\n",
       "    <tr>\n",
       "      <th>1</th>\n",
       "      <td>2</td>\n",
       "      <td>Male</td>\n",
       "      <td>28</td>\n",
       "      <td>Doctor</td>\n",
       "      <td>6.2</td>\n",
       "      <td>6</td>\n",
       "      <td>60</td>\n",
       "      <td>8</td>\n",
       "      <td>Normal</td>\n",
       "      <td>125/80</td>\n",
       "      <td>75</td>\n",
       "      <td>10000</td>\n",
       "      <td>NaN</td>\n",
       "    </tr>\n",
       "    <tr>\n",
       "      <th>2</th>\n",
       "      <td>3</td>\n",
       "      <td>Male</td>\n",
       "      <td>28</td>\n",
       "      <td>Doctor</td>\n",
       "      <td>6.2</td>\n",
       "      <td>6</td>\n",
       "      <td>60</td>\n",
       "      <td>8</td>\n",
       "      <td>Normal</td>\n",
       "      <td>125/80</td>\n",
       "      <td>75</td>\n",
       "      <td>10000</td>\n",
       "      <td>NaN</td>\n",
       "    </tr>\n",
       "    <tr>\n",
       "      <th>3</th>\n",
       "      <td>4</td>\n",
       "      <td>Male</td>\n",
       "      <td>28</td>\n",
       "      <td>Sales Representative</td>\n",
       "      <td>5.9</td>\n",
       "      <td>4</td>\n",
       "      <td>30</td>\n",
       "      <td>8</td>\n",
       "      <td>Obese</td>\n",
       "      <td>140/90</td>\n",
       "      <td>85</td>\n",
       "      <td>3000</td>\n",
       "      <td>Sleep Apnea</td>\n",
       "    </tr>\n",
       "    <tr>\n",
       "      <th>4</th>\n",
       "      <td>5</td>\n",
       "      <td>Male</td>\n",
       "      <td>28</td>\n",
       "      <td>Sales Representative</td>\n",
       "      <td>5.9</td>\n",
       "      <td>4</td>\n",
       "      <td>30</td>\n",
       "      <td>8</td>\n",
       "      <td>Obese</td>\n",
       "      <td>140/90</td>\n",
       "      <td>85</td>\n",
       "      <td>3000</td>\n",
       "      <td>Sleep Apnea</td>\n",
       "    </tr>\n",
       "  </tbody>\n",
       "</table>\n",
       "</div>"
      ],
      "text/plain": [
       "   Person ID Gender  Age            Occupation  Sleep Duration  \\\n",
       "0          1   Male   27     Software Engineer             6.1   \n",
       "1          2   Male   28                Doctor             6.2   \n",
       "2          3   Male   28                Doctor             6.2   \n",
       "3          4   Male   28  Sales Representative             5.9   \n",
       "4          5   Male   28  Sales Representative             5.9   \n",
       "\n",
       "   Quality of Sleep  Physical Activity Level  Stress Level BMI Category  \\\n",
       "0                 6                       42             6   Overweight   \n",
       "1                 6                       60             8       Normal   \n",
       "2                 6                       60             8       Normal   \n",
       "3                 4                       30             8        Obese   \n",
       "4                 4                       30             8        Obese   \n",
       "\n",
       "  Blood Pressure  Heart Rate  Daily Steps Sleep Disorder  \n",
       "0         126/83          77         4200            NaN  \n",
       "1         125/80          75        10000            NaN  \n",
       "2         125/80          75        10000            NaN  \n",
       "3         140/90          85         3000    Sleep Apnea  \n",
       "4         140/90          85         3000    Sleep Apnea  "
      ]
     },
     "execution_count": 2,
     "metadata": {},
     "output_type": "execute_result"
    }
   ],
   "source": [
    "# Load and preprocess data\n",
    "df = pd.read_csv('sleep_heath_lifecycle_dataset.csv')\n",
    "df.head()"
   ]
  },
  {
   "cell_type": "markdown",
   "metadata": {},
   "source": [
    "## 3. Data Preprocessing Function"
   ]
  },
  {
   "cell_type": "code",
   "execution_count": 3,
   "metadata": {},
   "outputs": [],
   "source": [
    "def preprocess_data(df):\n",
    "    \"\"\"Preprocess the sleep health dataset for stress prediction\"\"\"\n",
    "    df_processed = df.copy()\n",
    "    \n",
    "    # Handle missing values\n",
    "    df_processed['Sleep Disorder'] = df_processed['Sleep Disorder'].fillna('None')\n",
    "    \n",
    "    # Extract blood pressure components\n",
    "    bp_parts = df_processed['Blood Pressure'].str.split('/')\n",
    "    df_processed['Systolic_BP'] = bp_parts.str[0].astype(int)\n",
    "    df_processed['Diastolic_BP'] = bp_parts.str[1].astype(int)\n",
    "    \n",
    "    # Encode categorical variables\n",
    "    le_gender = LabelEncoder()\n",
    "    le_occupation = LabelEncoder()\n",
    "    le_bmi = LabelEncoder()\n",
    "    le_sleep_disorder = LabelEncoder()\n",
    "    \n",
    "    df_processed['Gender_Encoded'] = le_gender.fit_transform(df_processed['Gender'])\n",
    "    df_processed['Occupation_Encoded'] = le_occupation.fit_transform(df_processed['Occupation'])\n",
    "    df_processed['BMI_Category_Encoded'] = le_bmi.fit_transform(df_processed['BMI Category'])\n",
    "    df_processed['Sleep_Disorder_Encoded'] = le_sleep_disorder.fit_transform(df_processed['Sleep Disorder'])\n",
    "    \n",
    "    # Select features for model\n",
    "    feature_cols = ['Age', 'Sleep Duration', 'Quality of Sleep', 'Physical Activity Level',\n",
    "                   'Heart Rate', 'Daily Steps', 'Systolic_BP', 'Diastolic_BP',\n",
    "                   'Gender_Encoded', 'Occupation_Encoded', 'BMI_Category_Encoded', \n",
    "                   'Sleep_Disorder_Encoded']\n",
    "    \n",
    "    X = df_processed[feature_cols]\n",
    "    y = df_processed['Stress Level']\n",
    "    \n",
    "    return X, y, {\n",
    "        'gender_encoder': le_gender,\n",
    "        'occupation_encoder': le_occupation,\n",
    "        'bmi_encoder': le_bmi,\n",
    "        'sleep_disorder_encoder': le_sleep_disorder\n",
    "    }"
   ]
  },
  {
   "cell_type": "markdown",
   "metadata": {},
   "source": [
    "## 4. Preprocess Data and Split into Train/Test Sets"
   ]
  },
  {
   "cell_type": "code",
   "execution_count": 4,
   "metadata": {},
   "outputs": [
    {
     "name": "stdout",
     "output_type": "stream",
     "text": [
      "Training set size: (299, 12)\n",
      "Test set size: (75, 12)\n"
     ]
    }
   ],
   "source": [
    "# Preprocess data\n",
    "X, y, encoders = preprocess_data(df)\n",
    "\n",
    "# Train-test split\n",
    "X_train, X_test, y_train, y_test = train_test_split(X, y, test_size=0.2, random_state=42)\n",
    "\n",
    "print(f\"Training set size: {X_train.shape}\")\n",
    "print(f\"Test set size: {X_test.shape}\")"
   ]
  },
  {
   "cell_type": "markdown",
   "metadata": {},
   "source": [
    "## 5. Feature Scaling"
   ]
  },
  {
   "cell_type": "code",
   "execution_count": 5,
   "metadata": {},
   "outputs": [],
   "source": [
    "# Feature scaling\n",
    "scaler = StandardScaler()\n",
    "X_train_scaled = scaler.fit_transform(X_train)\n",
    "X_test_scaled = scaler.transform(X_test)"
   ]
  },
  {
   "cell_type": "markdown",
   "metadata": {},
   "source": [
    "## 6. Model Evaluation Function"
   ]
  },
  {
   "cell_type": "code",
   "execution_count": 6,
   "metadata": {},
   "outputs": [],
   "source": [
    "# Model evaluation function\n",
    "def evaluate_model(model, X_train, X_test, y_train, y_test, model_name):\n",
    "    \"\"\"Evaluate model performance\"\"\"\n",
    "    model.fit(X_train, y_train)\n",
    "    y_pred = model.predict(X_test)\n",
    "    \n",
    "    mse = mean_squared_error(y_test, y_pred)\n",
    "    rmse = np.sqrt(mse)\n",
    "    mae = mean_absolute_error(y_test, y_pred)\n",
    "    r2 = r2_score(y_test, y_pred)\n",
    "    \n",
    "    return {\n",
    "        'Model': model_name,\n",
    "        'RMSE': rmse,\n",
    "        'MAE': mae,\n",
    "        'R²': r2,\n",
    "        'Predictions': y_pred\n",
    "    }"
   ]
  },
  {
   "cell_type": "markdown",
   "metadata": {},
   "source": [
    "## 7. Initialize Models"
   ]
  },
  {
   "cell_type": "code",
   "execution_count": 7,
   "metadata": {},
   "outputs": [],
   "source": [
    "# Initialize models\n",
    "models = {\n",
    "    'Linear Regression': LinearRegression(),\n",
    "    'Ridge Regression': Ridge(alpha=1.0),\n",
    "    'Lasso Regression': Lasso(alpha=0.1),\n",
    "    'Random Forest': RandomForestRegressor(n_estimators=100, random_state=42),\n",
    "    'Gradient Boosting': GradientBoostingRegressor(n_estimators=100, random_state=42),\n",
    "    'SVR': SVR(kernel='rbf', C=1.0),\n",
    "    'Neural Network': MLPRegressor(hidden_layer_sizes=(100, 50), max_iter=1000, random_state=42)\n",
    "}"
   ]
  },
  {
   "cell_type": "markdown",
   "metadata": {},
   "source": [
    "## 8. Evaluate All Models"
   ]
  },
  {
   "cell_type": "code",
   "execution_count": 8,
   "metadata": {},
   "outputs": [
    {
     "name": "stdout",
     "output_type": "stream",
     "text": [
      "Model Performance Comparison:\n",
      "============================================================\n",
      "Linear Regression  | RMSE: 0.360 | MAE: 0.235 | R²: 0.959\n",
      "Ridge Regression   | RMSE: 0.363 | MAE: 0.237 | R²: 0.958\n",
      "Lasso Regression   | RMSE: 0.554 | MAE: 0.413 | R²: 0.902\n",
      "Random Forest      | RMSE: 0.171 | MAE: 0.051 | R²: 0.991\n",
      "Gradient Boosting  | RMSE: 0.076 | MAE: 0.032 | R²: 0.998\n",
      "SVR                | RMSE: 0.296 | MAE: 0.146 | R²: 0.972\n",
      "Neural Network     | RMSE: 0.310 | MAE: 0.142 | R²: 0.969\n"
     ]
    }
   ],
   "source": [
    "# Evaluate all models\n",
    "results = []\n",
    "model_predictions = {}\n",
    "\n",
    "print(\"Model Performance Comparison:\")\n",
    "print(\"=\" * 60)\n",
    "\n",
    "for name, model in models.items():\n",
    "    if name in ['SVR', 'Neural Network']:\n",
    "        result = evaluate_model(model, X_train_scaled, X_test_scaled, y_train, y_test, name)\n",
    "    else:\n",
    "        result = evaluate_model(model, X_train, X_test, y_train, y_test, name)\n",
    "    \n",
    "    results.append(result)\n",
    "    model_predictions[name] = result['Predictions']\n",
    "    \n",
    "    print(f\"{name:18} | RMSE: {result['RMSE']:.3f} | MAE: {result['MAE']:.3f} | R²: {result['R²']:.3f}\")"
   ]
  },
  {
   "cell_type": "markdown",
   "metadata": {},
   "source": [
    "## 9. Results Summary"
   ]
  },
  {
   "cell_type": "code",
   "execution_count": 9,
   "metadata": {},
   "outputs": [
    {
     "name": "stdout",
     "output_type": "stream",
     "text": [
      "               Model      RMSE       MAE        R²\n",
      "0  Linear Regression  0.359976  0.235230  0.958524\n",
      "1   Ridge Regression  0.362710  0.237440  0.957891\n",
      "2   Lasso Regression  0.554083  0.413048  0.901734\n",
      "3      Random Forest  0.170638  0.051200  0.990680\n",
      "4  Gradient Boosting  0.075667  0.031784  0.998167\n",
      "5                SVR  0.295771  0.145668  0.972000\n",
      "6     Neural Network  0.309665  0.142479  0.969307\n",
      "\n",
      "Best Model: Gradient Boosting\n"
     ]
    }
   ],
   "source": [
    "# Create results DataFrame\n",
    "results_df = pd.DataFrame(results)[['Model', 'RMSE', 'MAE', 'R²']]\n",
    "print(results_df)\n",
    "print(f\"\\nBest Model: {results_df.loc[results_df['R²'].idxmax(), 'Model']}\")"
   ]
  },
  {
   "cell_type": "markdown",
   "metadata": {},
   "source": [
    "## 10. Feature Importance Analysis"
   ]
  },
  {
   "cell_type": "code",
   "execution_count": 10,
   "metadata": {},
   "outputs": [
    {
     "name": "stdout",
     "output_type": "stream",
     "text": [
      "Feature Importance (Random Forest):\n",
      "========================================\n",
      "                    Feature  Importance\n",
      "2          Quality of Sleep    0.721522\n",
      "4                Heart Rate    0.123025\n",
      "1            Sleep Duration    0.087840\n",
      "5               Daily Steps    0.016222\n",
      "9        Occupation_Encoded    0.014461\n",
      "3   Physical Activity Level    0.012520\n",
      "0                       Age    0.010323\n",
      "8            Gender_Encoded    0.006953\n",
      "6               Systolic_BP    0.003268\n",
      "7              Diastolic_BP    0.001935\n",
      "10     BMI_Category_Encoded    0.001387\n",
      "11   Sleep_Disorder_Encoded    0.000544\n"
     ]
    }
   ],
   "source": [
    "# Feature importance (Random Forest)\n",
    "rf_model = RandomForestRegressor(n_estimators=100, random_state=42)\n",
    "rf_model.fit(X_train, y_train)\n",
    "feature_importance = pd.DataFrame({\n",
    "    'Feature': X.columns,\n",
    "    'Importance': rf_model.feature_importances_\n",
    "}).sort_values('Importance', ascending=False)\n",
    "\n",
    "print(f\"Feature Importance (Random Forest):\")\n",
    "print(\"=\" * 40)\n",
    "print(feature_importance)"
   ]
  },
  {
   "cell_type": "markdown",
   "metadata": {},
   "source": [
    "## 11. Prediction Function"
   ]
  },
  {
   "cell_type": "code",
   "execution_count": 11,
   "metadata": {},
   "outputs": [],
   "source": [
    "# Prediction function\n",
    "def predict_stress_level(sleep_duration, quality_sleep, age, heart_rate, \n",
    "                        physical_activity, daily_steps, gender='Male', \n",
    "                        occupation='Engineer', bmi_category='Normal', \n",
    "                        systolic_bp=120, diastolic_bp=80, sleep_disorder='None'):\n",
    "    \"\"\"Predict stress level for new input\"\"\"\n",
    "    \n",
    "    # Create input array\n",
    "    input_data = {\n",
    "        'Age': age,\n",
    "        'Sleep Duration': sleep_duration,\n",
    "        'Quality of Sleep': quality_sleep,\n",
    "        'Physical Activity Level': physical_activity,\n",
    "        'Heart Rate': heart_rate,\n",
    "        'Daily Steps': daily_steps,\n",
    "        'Systolic_BP': systolic_bp,\n",
    "        'Diastolic_BP': diastolic_bp,\n",
    "        'Gender_Encoded': 1 if gender == 'Male' else 0,\n",
    "        'Occupation_Encoded': encoders['occupation_encoder'].transform([occupation])[0],\n",
    "        'BMI_Category_Encoded': encoders['bmi_encoder'].transform([bmi_category])[0],\n",
    "        'Sleep_Disorder_Encoded': encoders['sleep_disorder_encoder'].transform([sleep_disorder])[0]\n",
    "    }\n",
    "    \n",
    "    input_df = pd.DataFrame([input_data])\n",
    "    prediction = rf_model.predict(input_df)[0]\n",
    "    \n",
    "    return round(prediction, 1)"
   ]
  },
  {
   "cell_type": "markdown",
   "metadata": {},
   "source": [
    "## 12. Example Prediction"
   ]
  },
  {
   "cell_type": "code",
   "execution_count": 12,
   "metadata": {},
   "outputs": [
    {
     "name": "stdout",
     "output_type": "stream",
     "text": [
      "Sample Prediction:\n",
      "Predicted Stress Level: 5.4\n"
     ]
    }
   ],
   "source": [
    "# Example prediction\n",
    "sample_prediction = predict_stress_level(\n",
    "    sleep_duration=7.0,\n",
    "    quality_sleep=7,\n",
    "    age=30,\n",
    "    heart_rate=70,\n",
    "    physical_activity=60,\n",
    "    daily_steps=8000\n",
    ")\n",
    "\n",
    "print(f\"Sample Prediction:\")\n",
    "print(f\"Predicted Stress Level: {sample_prediction}\")"
   ]
  }
 ],
 "metadata": {
  "kernelspec": {
   "display_name": "Python 3",
   "language": "python",
   "name": "python3"
  },
  "language_info": {
   "codemirror_mode": {
    "name": "ipython",
    "version": 3
   },
   "file_extension": ".py",
   "mimetype": "text/x-python",
   "name": "python",
   "nbconvert_exporter": "python",
   "pygments_lexer": "ipython3",
   "version": "3.11.9"
  }
 },
 "nbformat": 4,
 "nbformat_minor": 4
}
